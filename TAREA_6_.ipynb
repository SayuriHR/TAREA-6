{
  "nbformat": 4,
  "nbformat_minor": 0,
  "metadata": {
    "colab": {
      "name": "TAREA 6 .ipynb",
      "provenance": []
    },
    "kernelspec": {
      "name": "python3",
      "display_name": "Python 3"
    },
    "language_info": {
      "name": "python"
    }
  },
  "cells": [
    {
      "cell_type": "markdown",
      "metadata": {
        "id": "iQ68qCUYtdyp"
      },
      "source": [
        "## PROBLEMAS RESUELTOS \n",
        "METDOLOGIA DE LA PROGRMACION \n",
        "\n",
        "PAGINAS\n",
        "77-103\n",
        "\n",
        "**Hernandez Rubio Daira Sayuri**"
      ]
    },
    {
      "cell_type": "code",
      "metadata": {
        "colab": {
          "base_uri": "https://localhost:8080/"
        },
        "id": "mob9IwmmsITq",
        "outputId": "f89916f5-0d5c-45cd-9b62-ecabebc24765"
      },
      "source": [
        "#PROBLEMA 2.1\n",
        "N = float(input(\"Dame un numero entero:\"))\n",
        "T = 0\n",
        "if N>0:\n",
        "    T = N/4+ 40\n",
        "    print(\"Tu temperatura es:\",T,)\n"
      ],
      "execution_count": 26,
      "outputs": [
        {
          "output_type": "stream",
          "name": "stdout",
          "text": [
            "Dame un numero entero:50\n",
            "Tu temperatura es: 52.5\n"
          ]
        }
      ]
    },
    {
      "cell_type": "code",
      "metadata": {
        "colab": {
          "base_uri": "https://localhost:8080/"
        },
        "id": "GgcJ22Nzqy0s",
        "outputId": "b65789f6-0f4e-4b2b-ce48-38e2c1af6824"
      },
      "source": [
        "#PROBLEMA 2.2\n",
        "P = int(input(\"Dame un numero entero P:\"))\n",
        "Q = int(input(\"Dame un numero entero Q:\"))\n",
        "EXP = P**3 + Q**4 - 2*P**2\n",
        "if EXP<680:\n",
        "    print(\"VALOR P:\",P,)\n",
        "    print(\"VALOR Q:\",Q,)\n"
      ],
      "execution_count": 18,
      "outputs": [
        {
          "output_type": "stream",
          "name": "stdout",
          "text": [
            "Dame un numero entero P:2\n",
            "Dame un numero entero Q:4\n",
            "VALOR P: 2\n",
            "VALOR Q: 4\n"
          ]
        }
      ]
    },
    {
      "cell_type": "code",
      "metadata": {
        "colab": {
          "base_uri": "https://localhost:8080/"
        },
        "id": "5UvX4hd_nqQI",
        "outputId": "7d5f4ec4-7ec3-465a-aa3d-9890c2a89805"
      },
      "source": [
        "#PROBLEMA 2.3\n",
        "A = float(input(\"Dame un valor A:\"))\n",
        "B = float(input(\"Dame un valor B:\"))\n",
        "C = float(input(\"Dame un valor C:\"))\n",
        "DIS = B**2-4*A*C\n",
        "print(DIS)\n",
        "if DIS>=0:\n",
        "    X1 = ((-B) + DIS**0.5)/(2*A)\n",
        "    X2 = ((-B) - DIS**0.5)/(2*A)\n",
        "    print(\"RAICES REALES: X1 =\",X1,)\n",
        "    print(\"RAICES REALES:X2 =\",X2,)"
      ],
      "execution_count": 15,
      "outputs": [
        {
          "output_type": "stream",
          "name": "stdout",
          "text": [
            "Dame un valor A:2.5\n",
            "Dame un valor B:-6\n",
            "Dame un valor C:-4\n",
            "76.0\n",
            "RAICES REALES: X1 = 2.9435595774162695\n",
            "RAICES REALES:X2 = -0.5435595774162696\n"
          ]
        }
      ]
    },
    {
      "cell_type": "code",
      "metadata": {
        "colab": {
          "base_uri": "https://localhost:8080/"
        },
        "id": "aRvz86FhifE5",
        "outputId": "a024030c-b304-4f36-96f0-eeb885f9fce9"
      },
      "source": [
        "#PROBLEMA 2.4\n",
        "MAT = int(input(\"Dame tu matricula:\"))\n",
        "CAL1 = float(input(\"Dame tu primera calificacion:\"))\n",
        "CAL2 = float(input(\"Dame tu segunda calificacion:\"))\n",
        "CAL3 = float(input(\"Dame tu tercera calificacion:\"))\n",
        "CAL4 = float(input(\"Dame tu cuarta calificacion:\"))\n",
        "CAL5 = float(input(\"Dame tu quinta calificacion:\"))\n",
        "PRO = (CAL1 + CAL2 + CAL3 + CAL4 + CAL5)/5\n",
        "if PRO >= 6:\n",
        "    print(\"Cual es tu numero de matricula:\",MAT,\"Cual es tu promedio:\",PRO, \"APROBADO\")\n",
        "else:\n",
        "        print(\"Cual es tu numero de matricula:\",MAT,\"Cual es tu promedio:\",PRO, \"NO APROBADO\")\n"
      ],
      "execution_count": 9,
      "outputs": [
        {
          "output_type": "stream",
          "name": "stdout",
          "text": [
            "Dame tu matricula:17220\n",
            "Dame tu primera calificacion:8.60\n",
            "Dame tu segunda calificacion:9\n",
            "Dame tu tercera calificacion:9\n",
            "Dame tu cuarta calificacion:5.9\n",
            "Dame tu quinta calificacion:6.30\n",
            "Cual es tu numero de matricula: 17220 Cual es tu promedio: 7.76 APROBADO\n"
          ]
        }
      ]
    },
    {
      "cell_type": "code",
      "metadata": {
        "colab": {
          "base_uri": "https://localhost:8080/"
        },
        "id": "jSJPK574ie-_",
        "outputId": "67a1b7d4-ab8c-4188-e916-9f3f03be15ee"
      },
      "source": [
        "#PROBLEMA 2.5\n",
        "NUM = float(input(\"Dame un numero:\"))\n",
        "if NUM > 0:\n",
        "    print(\"El numero:\",NUM,\"es: POSITIVO\")\n",
        "elif NUM == 0:\n",
        "    print(\"El numero:\",NUM,\"es: NULO\")\n",
        "else:\n",
        "    print(\"El numero:\",NUM,\"es: NEGATIVO\")\n",
        "    "
      ],
      "execution_count": 2,
      "outputs": [
        {
          "output_type": "stream",
          "name": "stdout",
          "text": [
            "Dame un numero:-7\n",
            "El numero: -7.0 es: NEGATIVO\n"
          ]
        }
      ]
    },
    {
      "cell_type": "code",
      "metadata": {
        "colab": {
          "base_uri": "https://localhost:8080/"
        },
        "id": "CXMoNw53WROC",
        "outputId": "08a1795c-6887-4e6e-cd2b-f4d0381fcb25"
      },
      "source": [
        "#PROBLEMA 2.6\n",
        "A = int(input(\"Dame un valor de tipo entero: \"))\n",
        "if A == 0:\n",
        "    print(\"El número:\",A,\"es: NULO\")\n",
        "elif A%2 == 0:\n",
        "    print(\"PAR\")\n",
        "else: \n",
        "    print(\"IMPAR\")"
      ],
      "execution_count": 5,
      "outputs": [
        {
          "output_type": "stream",
          "name": "stdout",
          "text": [
            "Dame un valor de tipo entero: 7\n",
            "IMPAR\n"
          ]
        }
      ]
    },
    {
      "cell_type": "code",
      "metadata": {
        "colab": {
          "base_uri": "https://localhost:8080/"
        },
        "id": "WAqaEuPSYYKZ",
        "outputId": "d650779e-53cc-4e40-a3a0-8d1dae44f7a8"
      },
      "source": [
        "#PROBLEMA 2.7\n",
        "A = int(input(\" Dame un valor de tipo entero para A:\"))\n",
        "B = int(input(\" Dame un valor de tipo entero para B:\"))\n",
        "C = int(input(\" Dame un valor de tipo entero para C:\"))\n",
        "if A < B:\n",
        "    if B < C: \n",
        "        print(\"Los numeros estan es orden creciente\")\n",
        "    else:\n",
        "        print(\"Los numeros NO estan es orden creciente\")\n",
        "else:\n",
        "    print(\"Los numeros NO estan en orden creciente\")\n"
      ],
      "execution_count": null,
      "outputs": [
        {
          "output_type": "stream",
          "name": "stdout",
          "text": [
            " Dame un valor de tipo entero para A:10\n",
            " Dame un valor de tipo entero para B:11\n",
            " Dame un valor de tipo entero para C:12\n",
            "Los numeros estan es orden creciente\n"
          ]
        }
      ]
    },
    {
      "cell_type": "code",
      "metadata": {
        "colab": {
          "base_uri": "https://localhost:8080/"
        },
        "id": "lk8OlGuWZZRw",
        "outputId": "852cd921-5854-47e2-83a2-6a25e5cfaa05"
      },
      "source": [
        "#Problema 2.8\n",
        "COMPRA = float(input(\"Dame el monto de tu compra:\"))\n",
        "PAGAR = 0\n",
        "if COMPRA < 500:\n",
        "    PAGAR = COMPRA\n",
        "elif COMPRA <= 1000:\n",
        "    PAGAR = COMPRA-(COMPRA*0.05)\n",
        "elif COMPRA <= 7000:\n",
        "    PAGAR= COMPRA-(COMPRA*0.11)\n",
        "elif COMPRA<= 15000:\n",
        "    PAGAR= COMPRA-(COMPRA*0.18)\n",
        "else: \n",
        "    PAGAR= COMPRA-(COMPRA*0.25)\n",
        "print(\"Tu debes pagar\",PAGAR,\"pesos\")\n"
      ],
      "execution_count": null,
      "outputs": [
        {
          "output_type": "stream",
          "name": "stdout",
          "text": [
            "Dame el monto de tu compra:3500\n",
            "Tu debes pagar 3115.0 pesos\n"
          ]
        }
      ]
    },
    {
      "cell_type": "code",
      "metadata": {
        "colab": {
          "base_uri": "https://localhost:8080/"
        },
        "id": "1AZePaOwfMDO",
        "outputId": "5230caf7-7b88-4faf-f635-9df7c4638481"
      },
      "source": [
        "#PROBLEMA 2.9\n",
        "PREBAS= float(input(\"Dame el valor del producto:\"))\n",
        "IMP = 0\n",
        "PRETOT = 0\n",
        "if PREBAS > 500:\n",
        "    IMP= 20*0.30 + (PREBAS-40)*0.50\n",
        "elif PREBAS >40:\n",
        "    IMP = 20*0.30 + (PREBAS-40)*0.40\n",
        "elif PREBAS >20:\n",
        "    IMP = 20*0.30 + (PREBAS-20)*0.30\n",
        "else:\n",
        "    IMP = 0\n",
        "PRETOT = PREBAS + IMP\n",
        "print(\"Prebas =\",PREBAS,\"PRETOT=\",PRETOT,)"
      ],
      "execution_count": null,
      "outputs": [
        {
          "output_type": "stream",
          "name": "stdout",
          "text": [
            "Dame el valor del producto:75.68\n",
            "Prebas = 75.68 PRETOT= 95.95200000000001\n"
          ]
        }
      ]
    },
    {
      "cell_type": "code",
      "metadata": {
        "colab": {
          "base_uri": "https://localhost:8080/"
        },
        "id": "mjpsHqx2HT9Z",
        "outputId": "5765609b-0fc6-44b0-e364-0dddd5e881f8"
      },
      "source": [
        "#PROBLEMA 2.10\n",
        "A = float(input(\"Dame un valor de tipo entero para A:\"))\n",
        "B = float(input(\"Dame un valor de tipo entero para B:\"))\n",
        "C = float(input(\"Dame un valor de tipo entero para C:\"))\n",
        "if A > B:\n",
        "    if A > C:\n",
        "        print(\"El valor A es el mayor\")\n",
        "    elif A == C:\n",
        "        print(\"A y C son iguales\")\n",
        "    else:\n",
        "        print(\"C es el mayor\")\n",
        "elif A == B:\n",
        "    if A > C:\n",
        "        print(\"A y B son los mayores\")\n",
        "    elif A == C:\n",
        "        print(\"A B Y C son igaules\")\n",
        "    else:\n",
        "        print(\"C es el mayor \")\n",
        "elif B > C: \n",
        "    print(\"B es el mayor\")\n",
        "    if B == C: \n",
        "        print (\"B y C son mayores \")\n",
        "else:\n",
        "    print(\"C es el mayor\")\n"
      ],
      "execution_count": null,
      "outputs": [
        {
          "output_type": "stream",
          "name": "stdout",
          "text": [
            "Dame un valor de tipo entero para A:6\n",
            "Dame un valor de tipo entero para B:8\n",
            "Dame un valor de tipo entero para C:9\n",
            "C es el mayor\n"
          ]
        }
      ]
    },
    {
      "cell_type": "code",
      "metadata": {
        "colab": {
          "base_uri": "https://localhost:8080/"
        },
        "id": "If8h3dtYM3v6",
        "outputId": "f3cafa3d-8ac1-4a3d-e6a3-bb0b9036d8d8"
      },
      "source": [
        "#PROBLEMA 2.11\n",
        "CLAVE = int(input(\"Dame la clave de tu zona geografica:\"))\n",
        "NUMIN = int(input(\"Minutos hablados \"))\n",
        "COST = 0\n",
        "if CLAVE == 12:\n",
        "    COST = NUMIN*2\n",
        "elif CLAVE == 15:\n",
        "     COST = NUMIN*2.2\n",
        "elif CLAVE == 18:\n",
        "     COST = NUMIN*4.5\n",
        "elif CLAVE == 19:\n",
        "     COST = NUMIN*3.5\n",
        "elif CLAVE == 23:\n",
        "    COST = NUMIN*6\n",
        "elif CLAVE == 25:\n",
        "     COST = NUMIN*6\n",
        "elif CLAVE == 29:\n",
        "     COST = NUMIN*5\n",
        "print(\"Costo total de la llamada\",COST)\n"
      ],
      "execution_count": null,
      "outputs": [
        {
          "output_type": "stream",
          "name": "stdout",
          "text": [
            "Dame la clave de tu zona geografica:23\n",
            "Minutos hablados 5\n",
            "Costo total de la llamada 30\n"
          ]
        }
      ]
    },
    {
      "cell_type": "code",
      "metadata": {
        "colab": {
          "base_uri": "https://localhost:8080/"
        },
        "id": "dSVAkQAYSz1N",
        "outputId": "d7c5df05-827b-459b-e25d-a28e6c63c521"
      },
      "source": [
        "#PROBLEMA 2.12\n",
        "SUE = float(input(\"Dame tu sueldo:\"))\n",
        "CATE = int(input(\"De que categoria eres?:\"))\n",
        "HE = int(input(\"Cuantas horas extras trabajas?:\"))\n",
        "if CATE == 1:\n",
        "    PHE = 30\n",
        "elif CATE == 2:\n",
        "    PHE = 38\n",
        "elif CATE ==3:\n",
        "    PHE = 50\n",
        "elif CATE ==4:\n",
        "    PHE = 70\n",
        "else:\n",
        "    PHE = 0\n",
        "if HE > 30:\n",
        "    MUSUE = SUE + 30*PHE\n",
        "else:\n",
        "    MUSUE = SUE + HE*PHE\n",
        "print(\"tu sueldo final es:\",MUSUE)"
      ],
      "execution_count": null,
      "outputs": [
        {
          "output_type": "stream",
          "name": "stdout",
          "text": [
            "Dame tu sueldo:2200\n",
            "De que categoria eres?:2\n",
            "Cuantas horas extras trabajas?:38\n",
            "tu sueldo final es: 3340.0\n"
          ]
        }
      ]
    },
    {
      "cell_type": "code",
      "metadata": {
        "colab": {
          "base_uri": "https://localhost:8080/"
        },
        "id": "I9XVfg44bWuM",
        "outputId": "d89ff572-bb43-4dc3-8d58-b8c0047ee417"
      },
      "source": [
        "#Problema 2.13\n",
        "MAT = int(input(\"Dame tu matricula de alumno: \"))\n",
        "CARR = input(\"Dime cual es tu carrera: \")\n",
        "SEM = int(input(\"Dime en que semestre estas: \"))\n",
        "PROM = float(input(\"Dame tu promedio: \"))\n",
        "if CARR == \"Economía\":\n",
        "    if SEM >= 6 and PROM >= 8.8:\n",
        "        print(MAT,CARR,\"ACEPTADO\")\n",
        "elif CARR == \"Computación\":\n",
        "    if SEM >= 6 and PROM >= 8.5:\n",
        "        print(MAT,CARR,\"ACEPTADO\")\n",
        "elif CARR == \"Administración\":\n",
        "    if SEM >= 5 and PROM >= 8.5:\n",
        "        print(MAT,CARR,\"ACEPTADO\")\n",
        "elif CARR == \"Contabilidad\":\n",
        "    if SEM >= 5 and PROM >= 8.5:\n",
        "        print(MAT,CARR,\"ACEPTADO\")"
      ],
      "execution_count": null,
      "outputs": [
        {
          "output_type": "stream",
          "name": "stdout",
          "text": [
            "Dame tu matricula de alumno: 25900\n",
            "Dime cual es tu carrera: Contabilidad\n",
            "Dime en que semestre estas: 7\n",
            "Dame tu promedio: 9\n",
            "25900 Contabilidad ACEPTADO\n"
          ]
        }
      ]
    }
  ]
}